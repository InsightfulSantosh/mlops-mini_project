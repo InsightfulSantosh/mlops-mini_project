{
  "cells": [
    {
      "cell_type": "markdown",
      "metadata": {
        "id": "S5_k7E2IRGOg"
      },
      "source": [
        "## **Data Ingestion:**\n",
        "\n"
      ]
    },
    {
      "cell_type": "code",
      "execution_count": null,
      "metadata": {
        "id": "ZAvDnq1Fafg_"
      },
      "outputs": [],
      "source": [
        "import pandas as pd\n",
        "import numpy as np\n",
        "import os\n",
        "from sklearn.model_selection import train_test_split\n",
        "\n",
        "# Define BASE_FOLDER globally\n",
        "BASE_FOLDER = \"data\"\n",
        "\n",
        "def make_dir():\n",
        "    \"\"\"Creates required directories if they don't exist.\"\"\"\n",
        "    sub_dirs = [\"raw\", \"raw/train\", \"raw/test\"]  # Fixed missing comma\n",
        "    for sub in sub_dirs:\n",
        "        os.makedirs(os.path.join(BASE_FOLDER, sub), exist_ok=True)\n",
        "\n",
        "def load_data(url):\n",
        "    \"\"\"Loads data from the provided URL.\"\"\"\n",
        "    return pd.read_csv(url)\n",
        "\n",
        "def processing(df):\n",
        "    \"\"\"Filters, maps sentiment values, and shuffles data.\"\"\"\n",
        "    return (\n",
        "        df[df[\"sentiment\"].isin([\"happiness\", \"sadness\"])]\n",
        "        .drop(columns=[\"tweet_id\"], errors=\"ignore\")  # Avoid KeyError if column is missing\n",
        "        .assign(sentiment=lambda x: x[\"sentiment\"].map({\"happiness\": 1, \"sadness\": 0}))\n",
        "        .sample(frac=1, random_state=42)  # Shuffle the data\n",
        "    )\n",
        "\n",
        "def save_data(final_df):\n",
        "    \"\"\"Splits data into train and test sets and saves them.\"\"\"\n",
        "    train_df, test_df = train_test_split(final_df, test_size=0.2, random_state=42)\n",
        "\n",
        "    train_df.to_csv(os.path.join(BASE_FOLDER, \"raw/train\", \"train.csv\"), index=False)\n",
        "    test_df.to_csv(os.path.join(BASE_FOLDER, \"raw/test\", \"test.csv\"), index=False)\n",
        "\n",
        "def main():\n",
        "    make_dir()\n",
        "    url = \"https://raw.githubusercontent.com/campusx-official/jupyter-masterclass/main/tweet_emotions.csv\"\n",
        "\n",
        "    df = load_data(url)\n",
        "    final_df = processing(df)\n",
        "    save_data(final_df)\n",
        "\n",
        "if __name__ == \"__main__\":\n",
        "    main()\n"
      ]
    },
    {
      "cell_type": "markdown",
      "metadata": {
        "id": "vuy9n-NPRNPH"
      },
      "source": [
        "## **Data cleaning:**"
      ]
    },
    {
      "cell_type": "code",
      "execution_count": null,
      "metadata": {
        "colab": {
          "base_uri": "https://localhost:8080/"
        },
        "id": "FaMZdSnguggL",
        "outputId": "41ef6daa-8108-475c-9126-d3f8004f44f9"
      },
      "outputs": [],
      "source": [
        "import re\n",
        "# NLTK for natural language processing\n",
        "import nltk\n",
        "from nltk.corpus import stopwords    # For stopwords\n",
        "from nltk.tokenize import word_tokenize # For tokenization\n",
        "from nltk.stem import PorterStemmer, WordNetLemmatizer # For stemming and lemmatization\n",
        "\n",
        "# Downloading NLTK data\n",
        "nltk.download('stopwords')   # Downloading stopwords data\n",
        "nltk.download('punkt')       # Downloading tokenizer data\n",
        "nltk.download('wordnet')     # Downloading WordNet data for lemmatization"
      ]
    },
    {
      "cell_type": "code",
      "execution_count": null,
      "metadata": {
        "id": "s2HzrgqDTYdA"
      },
      "outputs": [],
      "source": [
        "\n",
        "\n",
        "def data_cleaning(text_series):\n",
        "    \"\"\"Cleans the text data by removing URLs, emails, numbers, and punctuation.\"\"\"\n",
        "    number_pattern = r\"(?<=\\D)\\d+|\\d+(?=\\D)\"  # Removes numbers but keeps letters\n",
        "    url_pattern = r\"https?://\\S+|www\\.\\S+\"\n",
        "    email_pattern = r\"\\b[A-Za-z0-9._%+-]+@[A-Za-z0-9.-]+\\.[A-Za-z]{2,}\\b\"\n",
        "    punctuation_pattern = r\"[^\\w\\s]\"\n",
        "\n",
        "    return (\n",
        "        text_series.astype(str)  # Ensure text is string\n",
        "        .str.lower()\n",
        "        .str.replace(url_pattern, \" \", regex=True)\n",
        "        .str.replace(email_pattern, \" \", regex=True)\n",
        "        .str.replace(number_pattern, \" \", regex=True)\n",
        "        .str.replace(punctuation_pattern, \" \", regex=True)\n",
        "        .str.strip()\n",
        "        .str.replace(r\"\\s+\", \" \", regex=True)  # Normalize spaces\n",
        "    )\n",
        "\n",
        "def remove_short_words(text_series, min_length=3):\n",
        "    \"\"\"Removes words shorter than `min_length` characters.\"\"\"\n",
        "    return text_series.apply(lambda x: \" \".join([word for word in x.split() if len(word) >= min_length]))\n",
        "\n",
        "def lemmatization(text_series):\n",
        "    \"\"\"Lemmatizes words using WordNetLemmatizer.\"\"\"\n",
        "    lemmatizer = WordNetLemmatizer()\n",
        "    return text_series.apply(lambda x: \" \".join([lemmatizer.lemmatize(word, pos=\"v\") for word in x.split()]))\n",
        "\n",
        "def remove_stopwords(text_series):\n",
        "    \"\"\"Removes stopwords from text.\"\"\"\n",
        "    stop_words = frozenset(stopwords.words(\"english\"))  # Faster lookup\n",
        "    return text_series.apply(lambda x: \" \".join([word for word in x.split() if word not in stop_words]))\n",
        "\n",
        "def normalize(df):\n",
        "    \"\"\"Applies text preprocessing steps.\"\"\"\n",
        "    df[\"content\"] = data_cleaning(df[\"content\"])\n",
        "    df[\"content\"] = remove_short_words(df[\"content\"])\n",
        "    df[\"content\"] = lemmatization(df[\"content\"])\n",
        "    df[\"content\"] = remove_stopwords(df[\"content\"])\n",
        "    return df\n",
        "\n",
        "def main():\n",
        "    train_data = pd.read_csv(\"/content/data/raw/train/train.csv\")\n",
        "    test_data = pd.read_csv(\"/content/data/raw/test/test.csv\")\n",
        "\n",
        "    # Transform the data\n",
        "    train_processed_data = normalize(train_data)\n",
        "    test_processed_data = normalize(test_data)\n",
        "\n",
        "    # Store the data inside data/processed\n",
        "    data_path = os.path.join(\"./data\", \"interim\")\n",
        "    os.makedirs(data_path, exist_ok=True)\n",
        "\n",
        "    train_processed_data.to_csv(os.path.join(data_path, \"train_processed.csv\"), index=False)\n",
        "    test_processed_data.to_csv(os.path.join(data_path, \"test_processed.csv\"), index=False)\n",
        "\n",
        "\n",
        "if __name__ == \"__main__\":\n",
        "    main()\n"
      ]
    },
    {
      "cell_type": "markdown",
      "metadata": {
        "id": "bqvjo-ln_gvT"
      },
      "source": [
        "## **Feature Engineering:**"
      ]
    },
    {
      "cell_type": "code",
      "execution_count": null,
      "metadata": {
        "id": "IuqHJGIk5yJW"
      },
      "outputs": [],
      "source": []
    },
    {
      "cell_type": "code",
      "execution_count": null,
      "metadata": {
        "colab": {
          "base_uri": "https://localhost:8080/"
        },
        "id": "ks3cIhbicplZ",
        "outputId": "47b6b37c-e0aa-415e-a4cd-3c5a6e64f71a"
      },
      "outputs": [],
      "source": [
        "import pickle\n",
        "import pandas as pd\n",
        "import os\n",
        "import logging\n",
        "import yaml\n",
        "from sklearn.feature_extraction.text import CountVectorizer\n",
        "\n",
        "# Set up logger\n",
        "logger = logging.getLogger(\"feature_engineering\")\n",
        "logger.setLevel(logging.DEBUG)\n",
        "\n",
        "# Remove existing handlers to avoid duplicates\n",
        "if logger.hasHandlers():\n",
        "    logger.handlers.clear()\n",
        "\n",
        "# Define log file path\n",
        "os.makedirs(\"logs\", exist_ok=True)\n",
        "log_file_path = \"logs/feature_engineering.log\"\n",
        "\n",
        "# Delete the log file if it exists\n",
        "if os.path.exists(log_file_path):\n",
        "    os.remove(log_file_path)\n",
        "\n",
        "# FileHandler to log messages to a file\n",
        "file_handler = logging.FileHandler(log_file_path)\n",
        "file_handler.setLevel(logging.DEBUG)\n",
        "\n",
        "# ConsoleHandler to log messages to the console\n",
        "console_handler = logging.StreamHandler()\n",
        "console_handler.setLevel(logging.DEBUG)\n",
        "\n",
        "# Create a formatter and attach it to the handlers\n",
        "formatter = logging.Formatter('%(asctime)s - %(name)s - %(levelname)s - %(message)s')\n",
        "file_handler.setFormatter(formatter)\n",
        "console_handler.setFormatter(formatter)\n",
        "\n",
        "# Add handlers to the logger\n",
        "logger.addHandler(file_handler)\n",
        "logger.addHandler(console_handler)\n",
        "\n",
        "def load_params(params_path: str) -> dict:\n",
        "    \"\"\"Load parameters from a YAML file.\"\"\"\n",
        "    try:\n",
        "        with open(params_path, \"r\") as file:\n",
        "            params = yaml.safe_load(file)\n",
        "            if params is None:\n",
        "                raise ValueError(f\"YAML file {params_path} is empty or invalid.\")\n",
        "        logger.debug(\"Parameters retrieved from %s\", params_path)\n",
        "        return params\n",
        "    except FileNotFoundError:\n",
        "        logger.error(\"File not found: %s\", params_path)\n",
        "        raise\n",
        "    except yaml.YAMLError as e:\n",
        "        logger.error(\"YAML error: %s\", e)\n",
        "        raise\n",
        "    except Exception as e:\n",
        "        logger.error(\"Unexpected error: %s\", e)\n",
        "        raise\n",
        "\n",
        "def load_data(path: str) -> pd.DataFrame:\n",
        "    \"\"\"Load data from a CSV file.\"\"\"\n",
        "    try:\n",
        "        df = pd.read_csv(path)\n",
        "        df.fillna(\"\", inplace=True)\n",
        "        logger.debug(\"Data loaded successfully from %s\", path)\n",
        "        return df\n",
        "    except FileNotFoundError:\n",
        "        logger.error(\"File not found: %s\", path)\n",
        "        raise\n",
        "    except Exception as e:\n",
        "        logger.error(\"Error loading file %s: %s\", path, e)\n",
        "        raise\n",
        "\n",
        "def bow(train: pd.DataFrame, test: pd.DataFrame, max_feature: int):\n",
        "    \"\"\"Perform Bag-of-Words transformation.\"\"\"\n",
        "    try:\n",
        "        x_train = train[\"content\"].values\n",
        "        y_train = train[\"sentiment\"].values\n",
        "        x_test = test[\"content\"].values\n",
        "        y_test = test[\"sentiment\"].values\n",
        "\n",
        "        vectorizer = CountVectorizer(max_features=max_feature)\n",
        "        x_train_bow = vectorizer.fit_transform(x_train)\n",
        "        x_test_bow = vectorizer.transform(x_test)\n",
        "\n",
        "        train_df = pd.DataFrame(x_train_bow.toarray())\n",
        "        train_df[\"label\"] = y_train\n",
        "        test_df = pd.DataFrame(x_test_bow.toarray())\n",
        "        test_df[\"label\"] = y_test\n",
        "\n",
        "        # Ensure the models directory exists\n",
        "        os.makedirs(\"models\", exist_ok=True)\n",
        "        pickle.dump(vectorizer, open(\"models/vectorizer.pkl\", \"wb\"))\n",
        "        logger.debug(\"Vectorizer saved successfully to models/vectorizer.pkl\")\n",
        "\n",
        "        return train_df, test_df\n",
        "    except Exception as e:\n",
        "        logger.error(\"Error in Bag-of-Words transformation: %s\", e)\n",
        "        raise\n",
        "\n",
        "def main():\n",
        "    try:\n",
        "        logger.info(\"Starting feature engineering process.\")\n",
        "        params = load_params(\"params.yaml\")\n",
        "        max_features = params[\"feature_engineering\"][\"max_features\"]\n",
        "    except Exception as e:\n",
        "        logger.error(\"Error loading parameters: %s\", e)\n",
        "        return\n",
        "\n",
        "    try:\n",
        "        train = load_data(os.path.join(\"/content\", \"data\", \"interim\", \"train_processed.csv\"))\n",
        "        test = load_data(os.path.join(\"/content\", \"data\", \"interim\", \"test_processed.csv\"))\n",
        "    except Exception as e:\n",
        "        logger.error(\"Error loading data: %s\", e)\n",
        "        return\n",
        "\n",
        "    try:\n",
        "        train_df, test_df = bow(train, test, max_features)\n",
        "        logger.info(\"Bag-of-Words transformation completed successfully.\")\n",
        "        print(\"Training DataFrame:\")\n",
        "        print(train_df.head())  # Replace display with print for standalone scripts\n",
        "        print(\"\\nTesting DataFrame:\")\n",
        "        print(test_df.head())  # Replace display with print for standalone scripts\n",
        "    except Exception as e:\n",
        "        logger.error(\"Error in Bag-of-Words transformation: %s\", e)\n",
        "        return\n",
        "\n",
        "if __name__ == \"__main__\":\n",
        "    main()\n"
      ]
    },
    {
      "cell_type": "code",
      "execution_count": null,
      "metadata": {
        "id": "b1rBpUu0_ovQ"
      },
      "outputs": [],
      "source": [
        "train= pd.read_csv(\"/content/data/interim/train_processed.csv\")\n",
        "test=pd.read_csv(\"/content/data/interim/test_processed.csv\")\n",
        "train.fillna('', inplace=True)\n",
        "test.fillna('', inplace=True)"
      ]
    },
    {
      "cell_type": "code",
      "execution_count": null,
      "metadata": {
        "id": "oMgSYdB8Apgu"
      },
      "outputs": [],
      "source": [
        "x_train= train[\"content\"].values\n",
        "y_train= train[\"sentiment\"].values\n",
        "x_test= test[\"content\"].values\n",
        "y_test= test[\"sentiment\"].values"
      ]
    },
    {
      "cell_type": "code",
      "execution_count": null,
      "metadata": {
        "id": "Cg7PgX6rySkD"
      },
      "outputs": [],
      "source": [
        "from sklearn.feature_extraction.text import CountVectorizer\n",
        "vectorize=CountVectorizer(max_features=500)\n",
        "x_train_bow = vectorize.fit_transform(x_train,)\n",
        "x_test_bow = vectorize.transform(x_test)"
      ]
    },
    {
      "cell_type": "code",
      "execution_count": null,
      "metadata": {
        "id": "9rPPSmJFbiGs"
      },
      "outputs": [],
      "source": [
        "train_df = pd.DataFrame(x_train_bow.toarray())\n",
        "train_df['label'] = y_train\n",
        "test_df = pd.DataFrame(x_test_bow.toarray())\n",
        "test_df['label'] = y_test"
      ]
    },
    {
      "cell_type": "markdown",
      "metadata": {},
      "source": [
        "## **Model Building:**\n",
        "\n"
      ]
    },
    {
      "cell_type": "code",
      "execution_count": 1,
      "metadata": {},
      "outputs": [],
      "source": [
        "!pip install -q dagshub mlflow\n"
      ]
    },
    {
      "cell_type": "code",
      "execution_count": 10,
      "metadata": {},
      "outputs": [
        {
          "data": {
            "text/html": [
              "<pre style=\"white-space:pre;overflow-x:auto;line-height:normal;font-family:Menlo,'DejaVu Sans Mono',consolas,'Courier New',monospace\">Initialized MLflow to track repo <span style=\"color: #008000; text-decoration-color: #008000\">\"InsightfulSantosh/mlops-mini_project\"</span>\n",
              "</pre>\n"
            ],
            "text/plain": [
              "Initialized MLflow to track repo \u001b[32m\"InsightfulSantosh/mlops-mini_project\"\u001b[0m\n"
            ]
          },
          "metadata": {},
          "output_type": "display_data"
        },
        {
          "data": {
            "text/html": [
              "<pre style=\"white-space:pre;overflow-x:auto;line-height:normal;font-family:Menlo,'DejaVu Sans Mono',consolas,'Courier New',monospace\">Repository InsightfulSantosh/mlops-mini_project initialized!\n",
              "</pre>\n"
            ],
            "text/plain": [
              "Repository InsightfulSantosh/mlops-mini_project initialized!\n"
            ]
          },
          "metadata": {},
          "output_type": "display_data"
        },
        {
          "name": "stdout",
          "output_type": "stream",
          "text": [
            "Accuracy: 0.6089\n",
            "Precision: 0.7046\n",
            "Recall: 0.6089\n",
            "F1 Score: 0.5560\n"
          ]
        },
        {
          "data": {
            "text/markdown": [
              "## Classification Report"
            ],
            "text/plain": [
              "<IPython.core.display.Markdown object>"
            ]
          },
          "metadata": {},
          "output_type": "display_data"
        },
        {
          "name": "stdout",
          "output_type": "stream",
          "text": [
            "              precision    recall  f1-score   support\n",
            "\n",
            "           0       0.57      0.95      0.71       521\n",
            "           1       0.84      0.26      0.40       517\n",
            "\n",
            "    accuracy                           0.61      1038\n",
            "   macro avg       0.71      0.61      0.56      1038\n",
            "weighted avg       0.70      0.61      0.56      1038\n",
            "\n"
          ]
        },
        {
          "data": {
            "text/markdown": [
              "## Confusion Matrix"
            ],
            "text/plain": [
              "<IPython.core.display.Markdown object>"
            ]
          },
          "metadata": {},
          "output_type": "display_data"
        },
        {
          "name": "stderr",
          "output_type": "stream",
          "text": [
            "/Users/santoshkumar/Data_science/mlops-mini_project/myenv/lib/python3.12/site-packages/mlflow/types/utils.py:452: UserWarning: Hint: Inferred schema contains integer column(s). Integer columns in Python cannot represent missing values. If your input data contains missing values at inference time, it will be encoded as floats and will cause a schema enforcement error. The best way to avoid this problem is to infer the model schema based on a realistic data sample (training dataset) that includes missing values. Alternatively, you can declare integer columns as doubles (float64) whenever these columns may have missing values. See `Handling Integers With Missing Values <https://www.mlflow.org/docs/latest/models.html#handling-integers-with-missing-values>`_ for more details.\n",
            "  warnings.warn(\n",
            "/Users/santoshkumar/Data_science/mlops-mini_project/myenv/lib/python3.12/site-packages/mlflow/types/utils.py:452: UserWarning: Hint: Inferred schema contains integer column(s). Integer columns in Python cannot represent missing values. If your input data contains missing values at inference time, it will be encoded as floats and will cause a schema enforcement error. The best way to avoid this problem is to infer the model schema based on a realistic data sample (training dataset) that includes missing values. Alternatively, you can declare integer columns as doubles (float64) whenever these columns may have missing values. See `Handling Integers With Missing Values <https://www.mlflow.org/docs/latest/models.html#handling-integers-with-missing-values>`_ for more details.\n",
            "  warnings.warn(\n",
            "/Users/santoshkumar/Data_science/mlops-mini_project/myenv/lib/python3.12/site-packages/mlflow/types/utils.py:452: UserWarning: Hint: Inferred schema contains integer column(s). Integer columns in Python cannot represent missing values. If your input data contains missing values at inference time, it will be encoded as floats and will cause a schema enforcement error. The best way to avoid this problem is to infer the model schema based on a realistic data sample (training dataset) that includes missing values. Alternatively, you can declare integer columns as doubles (float64) whenever these columns may have missing values. See `Handling Integers With Missing Values <https://www.mlflow.org/docs/latest/models.html#handling-integers-with-missing-values>`_ for more details.\n",
            "  warnings.warn(\n"
          ]
        },
        {
          "name": "stdout",
          "output_type": "stream",
          "text": [
            "🏃 View run DecisionTree_2025-03-20_06-12-32 at: https://dagshub.com/InsightfulSantosh/mlops-mini_project.mlflow/#/experiments/0/runs/6795e1045b9d4b44bf9c71c88c69fda7\n",
            "🧪 View experiment at: https://dagshub.com/InsightfulSantosh/mlops-mini_project.mlflow/#/experiments/0\n",
            "MLflow Run Completed Successfully!\n"
          ]
        },
        {
          "data": {
            "image/png": "[encoded data removed]",
            "text/plain": [
              "<Figure size 600x400 with 2 Axes>"
            ]
          },
          "metadata": {},
          "output_type": "display_data"
        },
        {
          "data": {
            "image/png": "[encoded data removed]",
            "text/plain": [
              "<Figure size 600x400 with 1 Axes>"
            ]
          },
          "metadata": {},
          "output_type": "display_data"
        }
      ],
      "source": [
        "import pandas as pd\n",
        "import matplotlib.pyplot as plt\n",
        "import seaborn as sns\n",
        "import numpy as np\n",
        "import time\n",
        "import os\n",
        "from datetime import datetime\n",
        "from sklearn.metrics import (\n",
        "    accuracy_score, classification_report, confusion_matrix, \n",
        "    f1_score, precision_score, recall_score, roc_curve, roc_auc_score\n",
        ")\n",
        "from sklearn.tree import DecisionTreeClassifier\n",
        "import mlflow\n",
        "import mlflow.sklearn\n",
        "from mlflow.models import infer_signature\n",
        "from IPython.display import display, Markdown\n",
        "\n",
        "# Load Data\n",
        "train_path = \"/Users/santoshkumar/Data_science/mlops-mini_project/data/processed/train_bow.csv\"\n",
        "test_path = \"/Users/santoshkumar/Data_science/mlops-mini_project/data/processed/test_bow.csv\"\n",
        "notebook_path = \"/Users/santoshkumar/Data_science/mlops-mini_project/notebooks/experiment-1.ipynb\"\n",
        "\n",
        "\n",
        "train_df = pd.read_csv(train_path)\n",
        "test_df = pd.read_csv(test_path)\n",
        "\n",
        "# Split Features and Labels\n",
        "X_train = train_df.drop(columns=[\"label\"])\n",
        "y_train = train_df[\"label\"]\n",
        "X_test = test_df.drop(columns=[\"label\"])\n",
        "y_test = test_df[\"label\"]\n",
        "\n",
        "# Set MLflow Experiment\n",
        "import dagshub\n",
        "dagshub.init(repo_owner='InsightfulSantosh', repo_name='mlops-mini_project', mlflow=True)\n",
        "experiment_name = \"tweet_emotion_classification\"\n",
        "experiment = mlflow.get_experiment_by_name(experiment_name)\n",
        "\n",
        "# Start MLflow Run\n",
        "with mlflow.start_run(run_name=f\"DecisionTree_{datetime.now().strftime('%Y-%m-%d_%H-%M-%S')}\"):\n",
        "    # Define Model with Hyperparameters\n",
        "    dt = DecisionTreeClassifier(max_depth=10, criterion='entropy', random_state=42)\n",
        "\n",
        "    # Measure training time\n",
        "    start_time = time.time()\n",
        "    dt.fit(X_train, y_train)\n",
        "    train_time = time.time() - start_time\n",
        "\n",
        "    # Predictions\n",
        "    y_pred = dt.predict(X_test)\n",
        "    \n",
        "    # Evaluation Metrics\n",
        "    accuracy = accuracy_score(y_test, y_pred)\n",
        "    precision = precision_score(y_test, y_pred, average='weighted')\n",
        "    recall = recall_score(y_test, y_pred, average='weighted')\n",
        "    f1 = f1_score(y_test, y_pred, average='weighted')\n",
        "    conf_matrix = confusion_matrix(y_test, y_pred, labels=np.unique(y_test))\n",
        "\n",
        "    # Print Metrics\n",
        "    print(f\"Accuracy: {accuracy:.4f}\")\n",
        "    print(f\"Precision: {precision:.4f}\")\n",
        "    print(f\"Recall: {recall:.4f}\")\n",
        "    print(f\"F1 Score: {f1:.4f}\")\n",
        "\n",
        "    display(Markdown(\"## Classification Report\"))\n",
        "    print(classification_report(y_test, y_pred))\n",
        "\n",
        "    # Confusion Matrix Visualization\n",
        "    display(Markdown(\"## Confusion Matrix\"))\n",
        "    class_labels = np.unique(y_test)  # Dynamically getting labels\n",
        "    plt.figure(figsize=(6,4))\n",
        "    sns.heatmap(conf_matrix, annot=True, fmt='d', cmap='Blues', xticklabels=class_labels, yticklabels=class_labels)\n",
        "    plt.ylabel('Actual')\n",
        "    plt.xlabel('Predicted')\n",
        "    plt.title('Confusion Matrix')\n",
        "    plt.savefig(\"confusion_matrix.png\")\n",
        "    mlflow.log_artifact(\"confusion_matrix.png\")\n",
        "\n",
        "\n",
        "    # Compute probabilities and ROC metrics\n",
        "    y_proba = dt.predict_proba(X_test)[:, 1]  # Get positive class probabilities\n",
        "    fpr, tpr, _ = roc_curve(y_test, y_proba, pos_label=1)  # Compute ROC curve\n",
        "    roc_auc = roc_auc_score(y_test, y_proba)  # Compute ROC AUC score\n",
        "\n",
        "    # Plot ROC Curve\n",
        "    plt.figure(figsize=(6, 4))\n",
        "    plt.plot(fpr, tpr, color='blue', label=f'ROC Curve (AUC = {roc_auc:.4f})')\n",
        "    plt.plot([0, 1], [0, 1], linestyle='--', color='grey')\n",
        "    plt.xlabel('False Positive Rate')\n",
        "    plt.ylabel('True Positive Rate')\n",
        "    plt.title('ROC Curve')\n",
        "    plt.legend()\n",
        "    plt.savefig(\"roc_curve.png\")\n",
        "\n",
        "    # Log ROC Curve\n",
        "    mlflow.log_artifact(\"roc_curve.png\")\n",
        "    mlflow.log_metric(\"auc\", roc_auc)\n",
        "\n",
        "\n",
        "    # MLflow Logging\n",
        "    mlflow.log_params(dt.get_params())  # Log all model hyperparameters\n",
        "    \n",
        "    mlflow.log_metrics({\n",
        "        \"accuracy\": accuracy,\n",
        "        \"precision\": precision,\n",
        "        \"recall\": recall,\n",
        "        \"f1\": f1,\n",
        "        \"training_time\": train_time\n",
        "    })\n",
        "\n",
        "    # Log metadata\n",
        "    mlflow.set_tag(\"experiment_version\", \"1.0\")\n",
        "    mlflow.set_tag(\"author\", \"Santosh\")\n",
        "    mlflow.set_tag(\"description\", \"Decision Tree model for tweet sentiment classification\")\n",
        "\n",
        "    # Log Notebook\n",
        "    mlflow.log_artifact(notebook_path)\n",
        "\n",
        "    # Log Model with Signature and Input Example\n",
        "    input_example = X_test.iloc[:1]  # Sample input\n",
        "    signature = infer_signature(X_train, dt.predict(X_train))\n",
        "    mlflow.sklearn.log_model(dt, \"decision_tree_model\", signature=signature, input_example=input_example)\n",
        "\n",
        "    # Log Input Data\n",
        "    mlflow.log_input(mlflow.data.from_pandas(train_df), context=\"training\")\n",
        "    mlflow.log_input(mlflow.data.from_pandas(test_df), context=\"validation\")\n",
        "\n",
        "print(\"MLflow Run Completed Successfully!\")"
      ]
    },
    {
      "cell_type": "code",
      "execution_count": null,
      "metadata": {},
      "outputs": [
        {
          "data": {
            "text/html": [
              "<pre style=\"white-space:pre;overflow-x:auto;line-height:normal;font-family:Menlo,'DejaVu Sans Mono',consolas,'Courier New',monospace\">Accessing as InsightfulSantosh\n",
              "</pre>\n"
            ],
            "text/plain": [
              "Accessing as InsightfulSantosh\n"
            ]
          },
          "metadata": {},
          "output_type": "display_data"
        },
        {
          "data": {
            "text/html": [
              "<pre style=\"white-space:pre;overflow-x:auto;line-height:normal;font-family:Menlo,'DejaVu Sans Mono',consolas,'Courier New',monospace\">Initialized MLflow to track repo <span style=\"color: #008000; text-decoration-color: #008000\">\"InsightfulSantosh/mlops-mini_project\"</span>\n",
              "</pre>\n"
            ],
            "text/plain": [
              "Initialized MLflow to track repo \u001b[32m\"InsightfulSantosh/mlops-mini_project\"\u001b[0m\n"
            ]
          },
          "metadata": {},
          "output_type": "display_data"
        },
        {
          "data": {
            "text/html": [
              "<pre style=\"white-space:pre;overflow-x:auto;line-height:normal;font-family:Menlo,'DejaVu Sans Mono',consolas,'Courier New',monospace\">Repository InsightfulSantosh/mlops-mini_project initialized!\n",
              "</pre>\n"
            ],
            "text/plain": [
              "Repository InsightfulSantosh/mlops-mini_project initialized!\n"
            ]
          },
          "metadata": {},
          "output_type": "display_data"
        },
        {
          "data": {
            "text/plain": [
              "0.630057803468208"
            ]
          },
          "execution_count": 108,
          "metadata": {},
          "output_type": "execute_result"
        }
      ],
      "source": [
        "\n",
        "\n",
        "from sklearn.metrics import accuracy_score, precision_score, recall_score, roc_auc_score\n",
        "file_path= '/Users/santoshkumar/Data_science/mlops-mini_project/models/model.pkl'\n",
        "with open(file_path, 'rb') as file :\n",
        "    model= pickle.load(file)\n",
        "\n",
        "x_path= '/Users/santoshkumar/Data_science/mlops-mini_project/data/processed/test_bow.csv'\n",
        "y_path ='/Users/santoshkumar/Data_science/mlops-mini_project/data/raw/test/test.csv'\n",
        "y= pd.read_csv(y_path)\n",
        "x= pd.read_csv(x_path)\n",
        "x_test=x.iloc[:,:-1].values\n",
        "\n",
        "\n",
        "\n",
        "y_test=y.iloc[:,0].values\n",
        "\n",
        "\n",
        "\n",
        "y_pred=model.predict(x_test)\n",
        "accuracy_score(y_test,y_pred)\n",
        "recall_score(y_test,y_pred,average='weighted')\n",
        "#precision_score(y_test,y_pred)"
      ]
    },
    {
      "cell_type": "code",
      "execution_count": 44,
      "metadata": {},
      "outputs": [
        {
          "data": {
            "text/plain": [
              "array([1, 1, 1, ..., 1, 1, 1], shape=(1038,))"
            ]
          },
          "execution_count": 44,
          "metadata": {},
          "output_type": "execute_result"
        }
      ],
      "source": [
        "y_test"
      ]
    },
    {
      "cell_type": "code",
      "execution_count": null,
      "metadata": {},
      "outputs": [],
      "source": []
    },
    {
      "cell_type": "code",
      "execution_count": null,
      "metadata": {},
      "outputs": [],
      "source": []
    },
    {
      "cell_type": "code",
      "execution_count": null,
      "metadata": {},
      "outputs": [
        {
          "data": {
            "text/html": [
              "<pre style=\"white-space:pre;overflow-x:auto;line-height:normal;font-family:Menlo,'DejaVu Sans Mono',consolas,'Courier New',monospace\">Initialized MLflow to track repo <span style=\"color: #008000; text-decoration-color: #008000\">\"InsightfulSantosh/mlops-mini_project\"</span>\n",
              "</pre>\n"
            ],
            "text/plain": [
              "Initialized MLflow to track repo \u001b[32m\"InsightfulSantosh/mlops-mini_project\"\u001b[0m\n"
            ]
          },
          "metadata": {},
          "output_type": "display_data"
        },
        {
          "data": {
            "text/html": [
              "<pre style=\"white-space:pre;overflow-x:auto;line-height:normal;font-family:Menlo,'DejaVu Sans Mono',consolas,'Courier New',monospace\">Repository InsightfulSantosh/mlops-mini_project initialized!\n",
              "</pre>\n"
            ],
            "text/plain": [
              "Repository InsightfulSantosh/mlops-mini_project initialized!\n"
            ]
          },
          "metadata": {},
          "output_type": "display_data"
        },
        {
          "name": "stderr",
          "output_type": "stream",
          "text": [
            "Starting model evaluation pipeline...\n",
            "Loading model from /Users/santoshkumar/Data_science/mlops-mini_project/models/model.pkl\n",
            "Model loaded successfully: DecisionTreeClassifier(criterion='entropy', max_depth=15, random_state=42)\n",
            "Loading data from /Users/santoshkumar/Data_science/mlops-mini_project/data/processed/test_bow.csv\n",
            "Data loaded successfully, shape: (1038, 1001)\n",
            "Loading data from /Users/santoshkumar/Data_science/mlops-mini_project/data/raw/test/test.csv\n",
            "Data loaded successfully, shape: (1038, 2)\n",
            "Starting model evaluation...\n",
            "Evaluation metrics:\n",
            "{\n",
            "    \"accuracy\": 0.630057803468208,\n",
            "    \"recall\": 0.630057803468208,\n",
            "    \"precision\": 0.8308457711442786,\n",
            "    \"f1_score\": 0.46518105849582175,\n",
            "    \"roc_auc\": 0.7221605527237086\n",
            "}\n",
            "Metrics saved to /Users/santoshkumar/Data_science/mlops-mini_project/reports/metrics.json\n",
            "Model evaluation pipeline completed successfully.\n"
          ]
        },
        {
          "name": "stdout",
          "output_type": "stream",
          "text": [
            "🏃 View run rare-doe-863 at: https://dagshub.com/InsightfulSantosh/mlops-mini_project.mlflow/#/experiments/1/runs/f79e2b784ad84860be28c2fdf507193d\n",
            "🧪 View experiment at: https://dagshub.com/InsightfulSantosh/mlops-mini_project.mlflow/#/experiments/1\n"
          ]
        }
      ],
      "source": [
        "import numpy as np\n",
        "import pandas as pd\n",
        "import pickle\n",
        "import json\n",
        "from sklearn.metrics import accuracy_score, recall_score, precision_score, roc_auc_score, f1_score\n",
        "import logging\n",
        "import mlflow\n",
        "import mlflow.sklearn\n",
        "import dagshub\n",
        "import os\n",
        "\n",
        "dagshub.init(repo_owner='InsightfulSantosh', repo_name='mlops-mini_project', mlflow=True)\n",
        "experiment_name = \"tweet_emotion_classification\"\n",
        "experiment = mlflow.get_experiment_by_name(experiment_name)\n",
        "\n",
        "# Set up logging\n",
        "logger = logging.getLogger('model_evaluation')\n",
        "logger.setLevel(logging.DEBUG)\n",
        "\n",
        "if logger.hasHandlers():\n",
        "    logger.handlers.clear()\n",
        "\n",
        "log_file_path = \"pipeline_logs/5.model_evaluation.log\"\n",
        "if os.path.exists(log_file_path):\n",
        "    os.remove(log_file_path)\n",
        "\n",
        "handler = logging.FileHandler(log_file_path)\n",
        "handler.setFormatter(logging.Formatter('%(asctime)s - %(name)s - %(levelname)s - %(message)s'))\n",
        "logger.addHandler(handler)\n",
        "logger.addHandler(logging.StreamHandler())\n",
        "\n",
        "def load_model(file_path):\n",
        "    \"\"\"Loads the model from a pickle file.\"\"\"\n",
        "    try:\n",
        "        logger.info(f'Loading model from {file_path}')\n",
        "        with open(file_path, 'rb') as file:\n",
        "            model = pickle.load(file)\n",
        "        logger.info(f'Model loaded successfully: {model}')\n",
        "        return model\n",
        "    except FileNotFoundError:\n",
        "        logger.error(f\"Model file not found: {file_path}\")\n",
        "        raise\n",
        "    except Exception as e:\n",
        "        logger.error(f\"Error loading model: {str(e)}\")\n",
        "        raise\n",
        "\n",
        "def load_data(path):\n",
        "    \"\"\"Loads data from a CSV file.\"\"\"\n",
        "    try:\n",
        "        logger.info(f'Loading data from {path}')\n",
        "        data = pd.read_csv(path)\n",
        "        logger.info(f'Data loaded successfully, shape: {data.shape}')\n",
        "        return data\n",
        "    except FileNotFoundError:\n",
        "        logger.error(f\"Data file not found: {path}\")\n",
        "        raise\n",
        "    except Exception as e:\n",
        "        logger.error(f\"Error loading data: {str(e)}\")\n",
        "        raise\n",
        "\n",
        "def evaluate(model, x_test: np.ndarray, y_test: np.ndarray):\n",
        "    \"\"\"Evaluates the model and logs performance metrics.\"\"\"\n",
        "    try:\n",
        "        logger.info(\"Starting model evaluation...\")\n",
        "        y_pred = model.predict(x_test)\n",
        "        y_pred_proba = model.predict_proba(x_test)[:, 1] if hasattr(model, \"predict_proba\") else y_pred\n",
        "\n",
        "        metrics = {\n",
        "            'accuracy': accuracy_score(y_test, y_pred),\n",
        "            'recall': recall_score(y_test, y_pred),\n",
        "            'precision': precision_score(y_test, y_pred),\n",
        "            'f1_score': f1_score(y_test, y_pred),\n",
        "            'roc_auc': roc_auc_score(y_test, y_pred_proba)\n",
        "        }\n",
        "        \n",
        "        logger.info(\"Evaluation metrics:\")\n",
        "        logger.info(json.dumps(metrics, indent=4))\n",
        "        \n",
        "        return metrics\n",
        "    except Exception as e:\n",
        "        logger.error(f\"Error during evaluation: {str(e)}\")\n",
        "        raise\n",
        "\n",
        "def save_metrics(metrics: dict, file_path: str) -> None:\n",
        "    \"\"\"Save the evaluation metrics to a JSON file.\"\"\"\n",
        "    try:\n",
        "        with open(file_path, 'w') as file:\n",
        "            json.dump(metrics, file, indent=4)\n",
        "        logger.debug('Metrics saved to %s', file_path)\n",
        "    except Exception as e:\n",
        "        logger.error('Error occurred while saving the metrics: %s', e)\n",
        "        raise\n",
        "\n",
        "def save_model_info(run_id: str, model_path: str, file_path: str) -> None:\n",
        "    \"\"\"Save the model run ID and path to a JSON file.\"\"\"\n",
        "    try:\n",
        "        model_info = {'run_id': run_id, 'model_path': model_path}\n",
        "        with open(file_path, 'w') as file:\n",
        "            json.dump(model_info, file, indent=4)\n",
        "        logger.debug('Model info saved to %s', file_path)\n",
        "    except Exception as e:\n",
        "        logger.error('Error occurred while saving the model info: %s', e)\n",
        "        raise\n",
        "\n",
        "def main():\n",
        "    mlflow.set_experiment(\"dvc-pipeline\")\n",
        "    with mlflow.start_run() as run:  # Start an MLflow run\n",
        "        try:\n",
        "            base_dir = os.getenv(\"BASE_DIR\", os.path.expanduser(\"~/Data_science/mlops-mini_project\"))\n",
        "            model_path = os.path.join(base_dir, \"models/model.pkl\")\n",
        "            x_path = os.path.join(base_dir, \"data/processed/test_bow.csv\")\n",
        "            y_path = os.path.join(base_dir, \"data/raw/test/test.csv\")\n",
        "            \n",
        "            logger.info(\"Starting model evaluation pipeline...\")\n",
        "            \n",
        "            model = load_model(model_path)\n",
        "            x = load_data(x_path)\n",
        "            y = load_data(y_path)\n",
        "            \n",
        "            x_test = x.iloc[:, :-1].values  # Exclude last column if it's the label\n",
        "            y_test = y.iloc[:, 0].values.ravel()\n",
        "            \n",
        "            metrics = evaluate(model, x_test, y_test)\n",
        "            save_metrics(metrics, './reports/metrics.json')\n",
        "\n",
        "            # Log metrics to MLflow\n",
        "            for metric_name, metric_value in metrics.items():\n",
        "                mlflow.log_metric(metric_name, metric_value)\n",
        "\n",
        "            # Log model parameters to MLflow\n",
        "            if hasattr(model, 'get_params'):\n",
        "                params = model.get_params()\n",
        "                for param_name, param_value in params.items():\n",
        "                    mlflow.log_param(param_name, param_value)\n",
        "            \n",
        "            # Log model to MLflow\n",
        "            mlflow.sklearn.log_model(model, \"model\")\n",
        "            \n",
        "            # Save model info\n",
        "            save_model_info(run.info.run_id, \"model\", 'reports/experiment_info.json')\n",
        "            \n",
        "            # Log the metrics file to MLflow\n",
        "            mlflow.log_artifact('reports/metrics.json')\n",
        "\n",
        "            # Log the model info file to MLflow\n",
        "            mlflow.log_artifact('reports/model_info.json')\n",
        "\n",
        "            # Log the evaluation errors log file to MLflow\n",
        "            mlflow.log_artifact('model_evaluation_errors.log')\n",
        "            \n",
        "            logger.info(\"Model evaluation pipeline completed successfully.\")\n",
        "        except Exception as e:\n",
        "            logger.error(f\"Pipeline execution failed: {str(e)}\")\n",
        "\n",
        "if __name__ == '__main__':\n",
        "    main()\n"
      ]
    },
    {
      "cell_type": "code",
      "execution_count": null,
      "metadata": {},
      "outputs": [],
      "source": [
        "de"
      ]
    }
  ],
  "metadata": {
    "colab": {
      "provenance": []
    },
    "kernelspec": {
      "display_name": "myenv",
      "language": "python",
      "name": "python3"
    },
    "language_info": {
      "codemirror_mode": {
        "name": "ipython",
        "version": 3
      },
      "file_extension": ".py",
      "mimetype": "text/x-python",
      "name": "python",
      "nbconvert_exporter": "python",
      "pygments_lexer": "ipython3",
      "version": "3.12.4"
    }
  },
  "nbformat": 4,
  "nbformat_minor": 0
}
